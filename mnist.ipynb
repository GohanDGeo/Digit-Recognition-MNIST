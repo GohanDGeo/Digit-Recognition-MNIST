{
 "cells": [
  {
   "cell_type": "markdown",
   "metadata": {},
   "source": [
    "Inspired by:\n",
    "https://nextjournal.com/gkoehler/pytorch-mnist"
   ]
  },
  {
   "cell_type": "markdown",
   "metadata": {},
   "source": [
    "## Imports"
   ]
  },
  {
   "cell_type": "code",
   "execution_count": 67,
   "metadata": {},
   "outputs": [],
   "source": [
    "# Imports\n",
    "import torch\n",
    "import torch.nn as nn\n",
    "import torch.optim as optim\n",
    "import torchvision\n",
    "import torchvision.transforms as transforms\n",
    "import torch.nn.functional as F\n",
    "import matplotlib.pyplot as plt\n",
    "from torch.utils.data import DataLoader, random_split"
   ]
  },
  {
   "cell_type": "markdown",
   "metadata": {},
   "source": [
    "## Set parameters"
   ]
  },
  {
   "cell_type": "code",
   "execution_count": 68,
   "metadata": {},
   "outputs": [
    {
     "data": {
      "text/plain": [
       "<torch._C.Generator at 0x15c8711fcb0>"
      ]
     },
     "execution_count": 68,
     "metadata": {},
     "output_type": "execute_result"
    }
   ],
   "source": [
    "torch.manual_seed(42)"
   ]
  },
  {
   "cell_type": "code",
   "execution_count": 69,
   "metadata": {},
   "outputs": [],
   "source": [
    "batch_size_train = 64"
   ]
  },
  {
   "cell_type": "code",
   "execution_count": 70,
   "metadata": {},
   "outputs": [],
   "source": [
    "batch_size_test = 500\n",
    "transform = transforms.Compose([\n",
    "    transforms.ToTensor(), # Transform to tensor, so scale data to [0.1] range\n",
    "    transforms.Normalize((0.1307,),(0.3081,)) # Scale to have zero mean and standard deviation. Values of mean and STD taken as given.\n",
    "])"
   ]
  },
  {
   "cell_type": "markdown",
   "metadata": {},
   "source": [
    "## Load Data"
   ]
  },
  {
   "cell_type": "code",
   "execution_count": 71,
   "metadata": {},
   "outputs": [],
   "source": [
    "full_train_data = torchvision.datasets.MNIST(\"/files/\", train=True, transform=transform, download=True)\n",
    "\n",
    "# Split into training (80%) and validation (20%)\n",
    "train_size = int(0.8 * len(full_train_data))  \n",
    "val_size = len(full_train_data) - train_size  \n",
    "\n",
    "train_dataset, val_dataset = random_split(full_train_data, [train_size, val_size])\n",
    "\n",
    "train_loader = DataLoader(train_dataset, batch_size=batch_size_train, shuffle=True)\n",
    "val_loader = DataLoader(val_dataset, batch_size=batch_size_train, shuffle=False)\n"
   ]
  },
  {
   "cell_type": "code",
   "execution_count": 72,
   "metadata": {},
   "outputs": [],
   "source": [
    "# Load test data\n",
    "test_loader = torch.utils.data.DataLoader(torchvision.datasets.MNIST('/files/', \n",
    "                                                                      train=False, download=True, \n",
    "                                                                      transform=transform),\n",
    "                                                                      batch_size=batch_size_test, shuffle=True)"
   ]
  },
  {
   "cell_type": "code",
   "execution_count": 73,
   "metadata": {},
   "outputs": [],
   "source": [
    "# Get a batch of the test data. Shape shold be %batch_size_test, 1, 28, 28\n",
    "examples = enumerate(test_loader)\n",
    "batch_idx, (example_data, example_targets) = next(examples)"
   ]
  },
  {
   "cell_type": "code",
   "execution_count": 74,
   "metadata": {},
   "outputs": [
    {
     "data": {
      "text/plain": [
       "torch.Size([500, 1, 28, 28])"
      ]
     },
     "execution_count": 74,
     "metadata": {},
     "output_type": "execute_result"
    }
   ],
   "source": [
    "example_data.shape"
   ]
  },
  {
   "cell_type": "markdown",
   "metadata": {},
   "source": [
    "## Example of datapoints"
   ]
  },
  {
   "cell_type": "code",
   "execution_count": 75,
   "metadata": {},
   "outputs": [
    {
     "data": {
      "image/png": "[encoded data removed]",
      "text/plain": [
       "<Figure size 640x480 with 2 Axes>"
      ]
     },
     "metadata": {},
     "output_type": "display_data"
    }
   ],
   "source": [
    "# Print examples of datapoints from the set\n",
    "fig = plt.figure()\n",
    "for i in range(2):\n",
    "  plt.subplot(1,2,i+1)\n",
    "  plt.tight_layout()\n",
    "  plt.imshow(example_data[i][0], cmap='gray', interpolation='none')\n",
    "  plt.title(\"Ground Truth: {}\".format(example_targets[i]))\n",
    "  plt.xticks([])\n",
    "  plt.yticks([])\n",
    "plt.show()"
   ]
  },
  {
   "cell_type": "markdown",
   "metadata": {},
   "source": [
    "## Network Classes"
   ]
  },
  {
   "cell_type": "markdown",
   "metadata": {},
   "source": [
    "### Parent network class"
   ]
  },
  {
   "cell_type": "code",
   "execution_count": 76,
   "metadata": {},
   "outputs": [],
   "source": [
    "# Parent class for the network, so both a network with linear layers and a CNN network can be tested.\n",
    "class DigitClassifier(nn.Module):\n",
    "    \n",
    "    def __init__(self) -> None:\n",
    "        super(DigitClassifier, self).__init__()\n",
    "\n",
    "    def forward(self, x):\n",
    "        raise NotImplementedError(\"Subclasses must implement forward method\") \n",
    "\n",
    "    # A function tha trains the network based on the given train data, optimizer and criterion.\n",
    "    # args:\n",
    "    # @train_loader -> The dataloader for the train data\n",
    "    # @optimizer ->  The optimizer to be used during training\n",
    "    # @criterion -> The criterion to be used for training\n",
    "    # @num_epochs -> The number of epochs to train for\n",
    "    # @verbose -> Set to True if training updates are to be printed out\n",
    "    def train_model(self, train_loader, optimizer, criterion, num_epochs=10, verbose=True):\n",
    "        for epoch in range(num_epochs):\n",
    "            running_loss = 0.0\n",
    "            for images, labels in train_loader:\n",
    "                optimizer.zero_grad()  # Reset gradients\n",
    "                outputs = self(images)  # Forward pass\n",
    "                loss = criterion(outputs, labels)  # Compute loss\n",
    "                loss.backward()  # Backpropagation\n",
    "                optimizer.step()  # Update weights\n",
    "\n",
    "                running_loss += loss.item()\n",
    "            if verbose:\n",
    "                print(f\"Epoch {epoch+1}, Loss: {running_loss/len(train_loader)}\")\n",
    "        if verbose:\n",
    "            print(\"Training Complete!\")\n",
    "        return running_loss/len(train_loader)\n",
    "\n",
    "    # A function that runs the model on test data.\n",
    "    # args:\n",
    "    # @test_loader -> The dataloader for the test data\n",
    "    # @verbose -> Set to True if test accuracy is to be printed out\n",
    "    def test_model(self, test_loader, verbose=True):\n",
    "        correct = 0\n",
    "        total = 0\n",
    "\n",
    "        self.eval()\n",
    "\n",
    "        with torch.no_grad():  # No need to track gradients\n",
    "            for images, labels in test_loader:\n",
    "                outputs = self(images)\n",
    "                _, predicted = torch.max(outputs, 1)  # Get class with highest probability\n",
    "                total += labels.size(0)\n",
    "                correct += (predicted == labels).sum().item()\n",
    "\n",
    "        accuracy = 100 * correct / total\n",
    "        \n",
    "        if verbose:\n",
    "            print(f\"Test Accuracy: {accuracy:.2f}%\")\n",
    "\n",
    "        return accuracy\n",
    "\n"
   ]
  },
  {
   "cell_type": "markdown",
   "metadata": {},
   "source": [
    "### Linear Network Class"
   ]
  },
  {
   "cell_type": "code",
   "execution_count": 77,
   "metadata": {},
   "outputs": [],
   "source": [
    "# A subclass of DigitClassifier that uses only linear layers and relu activation layers\n",
    "class LinearDigitClassifier(DigitClassifier):\n",
    "    \n",
    "    def __init__(self) -> None:\n",
    "        super(LinearDigitClassifier, self).__init__()\n",
    "\n",
    "        self.fc1 = nn.Linear(784, 128)\n",
    "        self.fc2 = nn.Linear(128, 64)\n",
    "        self.fc3 = nn.Linear(64, 10)\n",
    "\n",
    "    def forward(self, x):\n",
    "        x = x.view(-1, 28*28)\n",
    "        x = F.relu(self.fc1(x))\n",
    "        x = F.relu(self.fc2(x))\n",
    "        x = F.relu(self.fc3(x))\n",
    "        return F.log_softmax(x, -1)\n"
   ]
  },
  {
   "cell_type": "markdown",
   "metadata": {},
   "source": [
    "### CNN Network Class"
   ]
  },
  {
   "cell_type": "code",
   "execution_count": 78,
   "metadata": {},
   "outputs": [],
   "source": [
    "# A subclass of DigitClassifier that uses Convolutional Layers and maxpooling\n",
    "class CNNDigitClassifier(DigitClassifier):\n",
    "    \n",
    "    def __init__(self) -> None:\n",
    "        super(CNNDigitClassifier, self).__init__()\n",
    "\n",
    "        self.conv1 = nn.Conv2d(1, 16, kernel_size=3)\n",
    "        self.conv2 = nn.Conv2d(16, 32, kernel_size=3)\n",
    "        self.conv2_drop = nn.Dropout2d()\n",
    "        self.fc1 = nn.Linear(800, 50)\n",
    "        self.fc2 = nn.Linear(50, 10)\n",
    "\n",
    "    def forward(self, x):\n",
    "        x = F.relu(F.max_pool2d(self.conv1(x), 2))\n",
    "        x = F.relu(F.max_pool2d(self.conv2_drop(self.conv2(x)), 2))\n",
    "        x = x.view(-1, 800)\n",
    "        x = F.relu(self.fc1(x))\n",
    "        x = F.dropout(x, training=self.training)\n",
    "        x = self.fc2(x)\n",
    "        return F.log_softmax(x, -1)"
   ]
  },
  {
   "cell_type": "markdown",
   "metadata": {},
   "source": [
    "## Test CNN Network to find best Learning Rate and Momentum"
   ]
  },
  {
   "cell_type": "code",
   "execution_count": 79,
   "metadata": {},
   "outputs": [],
   "source": [
    "# Arrays to store accuracy in validation set for differnt learning rate and error in training set\n",
    "val_lr = []\n",
    "train_lr = []\n",
    "\n",
    "# Same, but for different momentum values\n",
    "val_momentum = []\n",
    "train_momentum =[]\n",
    "\n",
    "# Different learning rates and momentum values to test\n",
    "learning_rates = [0.1, 0.01, 0.001, 0.0001]\n",
    "momentums = [0.5, 0.9, 0.95]\n",
    "\n",
    "# Number of epochs to run training for\n",
    "epochs = 10\n",
    "\n",
    "# Criterion to use during training\n",
    "criterion = nn.CrossEntropyLoss()"
   ]
  },
  {
   "cell_type": "markdown",
   "metadata": {},
   "source": [
    "### Choose Learning Rate"
   ]
  },
  {
   "cell_type": "code",
   "execution_count": 80,
   "metadata": {},
   "outputs": [],
   "source": [
    "\n",
    "for lr in learning_rates:\n",
    "    network = CNNDigitClassifier()\n",
    "    optimizer = optim.SGD(network.parameters(), lr = lr)\n",
    "    train_acc = network.train_model(train_loader, optimizer, criterion, epochs, verbose=False)\n",
    "    val_acc = network.test_model(val_loader, verbose=False)\n",
    "    val_lr.append(val_acc)\n",
    "    train_lr.append(train_acc)\n",
    "\n"
   ]
  },
  {
   "cell_type": "code",
   "execution_count": 81,
   "metadata": {},
   "outputs": [
    {
     "data": {
      "image/png": "[encoded data removed]",
      "text/plain": [
       "<Figure size 640x480 with 1 Axes>"
      ]
     },
     "metadata": {},
     "output_type": "display_data"
    }
   ],
   "source": [
    "fig, ax = plt.subplots(1, 1)\n",
    "ax.plot(learning_rates, val_lr)\n",
    "ax.set_xlabel(\"Learning rate\")\n",
    "ax.set_ylabel(\"Accuracy in Validation Set (%)\")\n",
    "ax.set_xticks(learning_rates)\n",
    "ax.set_xscale('log')\n",
    "plt.show()"
   ]
  },
  {
   "cell_type": "code",
   "execution_count": 82,
   "metadata": {},
   "outputs": [
    {
     "data": {
      "image/png": "[encoded data removed]",
      "text/plain": [
       "<Figure size 640x480 with 1 Axes>"
      ]
     },
     "metadata": {},
     "output_type": "display_data"
    }
   ],
   "source": [
    "fig, ax = plt.subplots(1, 1)\n",
    "ax.plot(learning_rates, train_lr)\n",
    "\n",
    "ax.set_ylabel(\"Cross Entropy Loss in Train Data\")\n",
    "ax.set_xlabel(\"Learning rate\")\n",
    "ax.set_xticks(learning_rates)\n",
    "ax.set_xscale('log')\n",
    "plt.show()"
   ]
  },
  {
   "cell_type": "markdown",
   "metadata": {},
   "source": [
    "#### Choosing a learning rate of 0.01, as a middle ground between high and low values"
   ]
  },
  {
   "cell_type": "markdown",
   "metadata": {},
   "source": [
    "### Choosing Momentum"
   ]
  },
  {
   "cell_type": "code",
   "execution_count": 83,
   "metadata": {},
   "outputs": [],
   "source": [
    "for momentum in momentums:\n",
    "    network = CNNDigitClassifier()\n",
    "    optimizer = optim.SGD(network.parameters(), lr = 0.01, momentum=momentum)\n",
    "    train_acc = network.train_model(train_loader, optimizer, criterion, epochs, verbose=False)\n",
    "    val_acc = network.test_model(val_loader, verbose=False)\n",
    "    val_momentum.append(val_acc)\n",
    "    train_momentum.append(train_acc)"
   ]
  },
  {
   "cell_type": "code",
   "execution_count": 84,
   "metadata": {},
   "outputs": [
    {
     "data": {
      "image/png": "[encoded data removed]",
      "text/plain": [
       "<Figure size 640x480 with 1 Axes>"
      ]
     },
     "metadata": {},
     "output_type": "display_data"
    }
   ],
   "source": [
    "fig, ax = plt.subplots(1, 1)\n",
    "ax.plot(momentums, val_momentum)\n",
    "ax.set_xlabel(\"Momentum\")\n",
    "ax.set_ylabel(\"Accuracy in Validation Set (%)\")\n",
    "ax.set_xticks(momentums)\n",
    "plt.show()"
   ]
  },
  {
   "cell_type": "markdown",
   "metadata": {},
   "source": [
    "#### Choosing a momentum of 0.9"
   ]
  },
  {
   "cell_type": "markdown",
   "metadata": {},
   "source": [
    "## Running the network with learning_rate = 0.01, momentum=0.9"
   ]
  },
  {
   "cell_type": "code",
   "execution_count": 85,
   "metadata": {},
   "outputs": [
    {
     "name": "stdout",
     "output_type": "stream",
     "text": [
      "Epoch 1, Loss: 0.5448026813666026\n",
      "Epoch 2, Loss: 0.2509731217324734\n",
      "Epoch 3, Loss: 0.20462604127079248\n",
      "Epoch 4, Loss: 0.18287790160874526\n",
      "Epoch 5, Loss: 0.16735784996797642\n",
      "Epoch 6, Loss: 0.1508407652924458\n",
      "Epoch 7, Loss: 0.14733874708910782\n",
      "Epoch 8, Loss: 0.1428725251033902\n",
      "Epoch 9, Loss: 0.13563047865902383\n",
      "Epoch 10, Loss: 0.12638274107625086\n",
      "Training Complete!\n"
     ]
    },
    {
     "data": {
      "text/plain": [
       "0.12638274107625086"
      ]
     },
     "execution_count": 85,
     "metadata": {},
     "output_type": "execute_result"
    }
   ],
   "source": [
    "network = CNNDigitClassifier()\n",
    "optimizer = optim.SGD(network.parameters(), lr = 0.01, momentum=0.9)\n",
    "network.train_model(train_loader, optimizer, criterion, epochs)"
   ]
  },
  {
   "cell_type": "markdown",
   "metadata": {},
   "source": [
    "## Run the model on the validation and test data"
   ]
  },
  {
   "cell_type": "code",
   "execution_count": 86,
   "metadata": {},
   "outputs": [
    {
     "name": "stdout",
     "output_type": "stream",
     "text": [
      "Test Accuracy: 98.57%\n"
     ]
    },
    {
     "data": {
      "text/plain": [
       "98.56666666666666"
      ]
     },
     "execution_count": 86,
     "metadata": {},
     "output_type": "execute_result"
    }
   ],
   "source": [
    "network.test_model(val_loader)"
   ]
  },
  {
   "cell_type": "code",
   "execution_count": 87,
   "metadata": {},
   "outputs": [
    {
     "name": "stdout",
     "output_type": "stream",
     "text": [
      "Test Accuracy: 98.83%\n"
     ]
    },
    {
     "data": {
      "text/plain": [
       "98.83"
      ]
     },
     "execution_count": 87,
     "metadata": {},
     "output_type": "execute_result"
    }
   ],
   "source": [
    "network.test_model(test_loader)"
   ]
  },
  {
   "cell_type": "markdown",
   "metadata": {},
   "source": [
    "## Test on a random data point of the test set"
   ]
  },
  {
   "cell_type": "code",
   "execution_count": 88,
   "metadata": {},
   "outputs": [
    {
     "data": {
      "image/png": "[encoded data removed]",
      "text/plain": [
       "<Figure size 640x480 with 1 Axes>"
      ]
     },
     "metadata": {},
     "output_type": "display_data"
    }
   ],
   "source": [
    "# Get a random test image\n",
    "images, labels = next(iter(test_loader))\n",
    "image = images[0].numpy().squeeze()\n",
    "\n",
    "# Get prediction\n",
    "output = network(images[0].unsqueeze(0))\n",
    "_, predicted = torch.max(output, 1)\n",
    "\n",
    "# Show image and prediction\n",
    "plt.imshow(image, cmap=\"gray\")\n",
    "plt.title(f\"Predicted: {predicted.item()}, Actual: {labels[0].item()}\")\n",
    "plt.show()"
   ]
  },
  {
   "cell_type": "code",
   "execution_count": 89,
   "metadata": {},
   "outputs": [],
   "source": [
    "torch.save(network.state_dict(), \"network-files/mnist_model.pth\")"
   ]
  },
  {
   "cell_type": "code",
   "execution_count": null,
   "metadata": {},
   "outputs": [],
   "source": []
  }
 ],
 "metadata": {
  "kernelspec": {
   "display_name": "Python 3",
   "language": "python",
   "name": "python3"
  },
  "language_info": {
   "codemirror_mode": {
    "name": "ipython",
    "version": 3
   },
   "file_extension": ".py",
   "mimetype": "text/x-python",
   "name": "python",
   "nbconvert_exporter": "python",
   "pygments_lexer": "ipython3",
   "version": "3.9.0"
  }
 },
 "nbformat": 4,
 "nbformat_minor": 2
}
