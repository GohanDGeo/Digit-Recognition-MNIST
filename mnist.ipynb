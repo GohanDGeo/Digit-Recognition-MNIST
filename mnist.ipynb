{
 "cells": [
  {
   "cell_type": "code",
   "execution_count": 2,
   "metadata": {},
   "outputs": [],
   "source": [
    "# Imports\n",
    "import torch\n",
    "import torch.nn as nn\n",
    "import torch.optim as optim\n",
    "import torchvision\n",
    "import torchvision.transforms as transforms\n",
    "import torch.nn.functional as F\n",
    "import matplotlib.pyplot as plt"
   ]
  },
  {
   "cell_type": "markdown",
   "metadata": {},
   "source": [
    "# https://nextjournal.com/gkoehler/pytorch-mnist"
   ]
  },
  {
   "cell_type": "code",
   "execution_count": 3,
   "metadata": {},
   "outputs": [],
   "source": [
    "batch_size_train = 64"
   ]
  },
  {
   "cell_type": "code",
   "execution_count": 4,
   "metadata": {},
   "outputs": [],
   "source": [
    "batch_size_test = 500\n",
    "transform = transforms.Compose([\n",
    "    transforms.ToTensor(), # Transform to tensor, so scale data to [0.1] range\n",
    "    transforms.Normalize((0.1307,),(0.3081,)) # Scale to have zero mean and standard deviation. Values of mean and STD taken as given.\n",
    "])"
   ]
  },
  {
   "cell_type": "code",
   "execution_count": 5,
   "metadata": {},
   "outputs": [],
   "source": [
    "# Load train data\n",
    "train_loader = torch.utils.data.DataLoader(torchvision.datasets.MNIST('/files/', \n",
    "                                                                      train=True, download=True, \n",
    "                                                                      transform=transform),\n",
    "                                                                      batch_size=batch_size_train, shuffle=True)"
   ]
  },
  {
   "cell_type": "code",
   "execution_count": 6,
   "metadata": {},
   "outputs": [],
   "source": [
    "# Load test data\n",
    "test_loader = torch.utils.data.DataLoader(torchvision.datasets.MNIST('/files/', \n",
    "                                                                      train=False, download=True, \n",
    "                                                                      transform=transform),\n",
    "                                                                      batch_size=batch_size_test, shuffle=True)"
   ]
  },
  {
   "cell_type": "code",
   "execution_count": 7,
   "metadata": {},
   "outputs": [],
   "source": [
    "# Get a batch of the test data. Shape shold be %batch_size_test, 1, 28, 28\n",
    "examples = enumerate(test_loader)\n",
    "batch_idx, (example_data, example_targets) = next(examples)"
   ]
  },
  {
   "cell_type": "code",
   "execution_count": 8,
   "metadata": {},
   "outputs": [
    {
     "data": {
      "text/plain": [
       "torch.Size([500, 1, 28, 28])"
      ]
     },
     "execution_count": 8,
     "metadata": {},
     "output_type": "execute_result"
    }
   ],
   "source": [
    "example_data.shape"
   ]
  },
  {
   "cell_type": "code",
   "execution_count": 9,
   "metadata": {},
   "outputs": [
    {
     "data": {
      "image/png": "[encoded data removed]",
      "text/plain": [
       "<Figure size 640x480 with 4 Axes>"
      ]
     },
     "execution_count": 9,
     "metadata": {},
     "output_type": "execute_result"
    },
    {
     "data": {
      "image/png": "[encoded data removed]",
      "text/plain": [
       "<Figure size 640x480 with 4 Axes>"
      ]
     },
     "metadata": {},
     "output_type": "display_data"
    }
   ],
   "source": [
    "# Print examples of the handwritten digits and the targets (ground truth)\n",
    "fig = plt.figure()\n",
    "for i in range(4):\n",
    "  plt.subplot(2,2,i+1)\n",
    "  plt.tight_layout()\n",
    "  plt.imshow(example_data[i][0], cmap='gray', interpolation='none')\n",
    "  plt.title(\"Ground Truth: {}\".format(example_targets[i]))\n",
    "  plt.xticks([])\n",
    "  plt.yticks([])\n",
    "fig"
   ]
  },
  {
   "cell_type": "code",
   "execution_count": 45,
   "metadata": {},
   "outputs": [],
   "source": [
    "class DigitClassifier(nn.Module):\n",
    "    \n",
    "    def __init__(self) -> None:\n",
    "        super(DigitClassifier, self).__init__()\n",
    "\n",
    "    def forward(self, x):\n",
    "        raise NotImplementedError(\"Subclasses must implement forward method\") \n",
    "\n",
    "    def train_model(self, train_loader, optimizer, criterion, num_epochs=10, verbose=True):\n",
    "        for epoch in range(num_epochs):\n",
    "            running_loss = 0.0\n",
    "            for images, labels in train_loader:\n",
    "                optimizer.zero_grad()  # Reset gradients\n",
    "                outputs = self(images)  # Forward pass\n",
    "                loss = criterion(outputs, labels)  # Compute loss\n",
    "                loss.backward()  # Backpropagation\n",
    "                optimizer.step()  # Update weights\n",
    "\n",
    "                running_loss += loss.item()\n",
    "            if verbose:\n",
    "                print(f\"Epoch {epoch+1}, Loss: {running_loss/len(train_loader)}\")\n",
    "        if verbose:\n",
    "            print(\"Training Complete!\")\n",
    "\n",
    "    def test_model(self, test_loader, verbose=True):\n",
    "        correct = 0\n",
    "        total = 0\n",
    "\n",
    "        self.eval()\n",
    "\n",
    "        with torch.no_grad():  # No need to track gradients\n",
    "            for images, labels in test_loader:\n",
    "                outputs = self(images)\n",
    "                _, predicted = torch.max(outputs, 1)  # Get class with highest probability\n",
    "                total += labels.size(0)\n",
    "                correct += (predicted == labels).sum().item()\n",
    "\n",
    "        accuracy = 100 * correct / total\n",
    "        \n",
    "        if verbose:\n",
    "            print(f\"Test Accuracy: {accuracy:.2f}%\")\n",
    "\n"
   ]
  },
  {
   "cell_type": "code",
   "execution_count": 46,
   "metadata": {},
   "outputs": [],
   "source": [
    "class LinearDigitClassifier(DigitClassifier):\n",
    "    \n",
    "    def __init__(self) -> None:\n",
    "        super(LinearDigitClassifier, self).__init__()\n",
    "\n",
    "        self.fc1 = nn.Linear(784, 128)\n",
    "        self.fc2 = nn.Linear(128, 64)\n",
    "        self.fc3 = nn.Linear(64, 10)\n",
    "\n",
    "    def forward(self, x):\n",
    "        x = x.view(-1, 28*28)\n",
    "        x = F.relu(self.fc1(x))\n",
    "        x = F.relu(self.fc2(x))\n",
    "        x = F.relu(self.fc3(x))\n",
    "        return F.log_softmax(x, -1)\n"
   ]
  },
  {
   "cell_type": "code",
   "execution_count": null,
   "metadata": {},
   "outputs": [],
   "source": [
    "class CNNDigitClassifier(DigitClassifier):\n",
    "    \n",
    "    def __init__(self) -> None:\n",
    "        super(CNNDigitClassifier, self).__init__()\n",
    "\n",
    "        self.conv1 = nn.Conv2d(1, 10, kernel_size=5)\n",
    "        self.conv2 = nn.Conv2d(10, 20, kernel_size=5)\n",
    "        self.conv2_drop = nn.Dropout2d()\n",
    "        self.fc1 = nn.Linear(320, 50)\n",
    "        self.fc2 = nn.Linear(50, 10)\n",
    "\n",
    "    def forward(self, x):\n",
    "        x = F.relu(F.max_pool2d(self.conv1(x), 2))\n",
    "        x = F.relu(F.max_pool2d(self.conv2_drop(self.conv2(x)), 2))\n",
    "        x = x.view(-1, 320)\n",
    "        x = F.relu(self.fc1(x))\n",
    "        x = F.dropout(x, training=self.training)\n",
    "        x = self.fc2(x)\n",
    "        return F.log_softmax(x, -1)"
   ]
  },
  {
   "cell_type": "code",
   "execution_count": 57,
   "metadata": {},
   "outputs": [],
   "source": [
    "network = CNNDigitClassifier()\n",
    "optimizer = optim.SGD(network.parameters(), lr=0.01, momentum=0.5)\n",
    "criterion = nn.CrossEntropyLoss()"
   ]
  },
  {
   "cell_type": "code",
   "execution_count": 58,
   "metadata": {},
   "outputs": [
    {
     "data": {
      "text/plain": [
       "CNNDigitClassifier(\n",
       "  (conv1): Conv2d(1, 10, kernel_size=(5, 5), stride=(1, 1))\n",
       "  (conv2): Conv2d(10, 20, kernel_size=(5, 5), stride=(1, 1))\n",
       "  (conv2_drop): Dropout2d(p=0.5, inplace=False)\n",
       "  (fc1): Linear(in_features=320, out_features=50, bias=True)\n",
       "  (fc2): Linear(in_features=50, out_features=10, bias=True)\n",
       ")"
      ]
     },
     "execution_count": 58,
     "metadata": {},
     "output_type": "execute_result"
    }
   ],
   "source": [
    "network"
   ]
  },
  {
   "cell_type": "code",
   "execution_count": 59,
   "metadata": {},
   "outputs": [
    {
     "name": "stderr",
     "output_type": "stream",
     "text": [
      "C:\\Users\\MasterK\\AppData\\Local\\Temp\\ipykernel_44932\\1367609531.py:19: UserWarning: Implicit dimension choice for log_softmax has been deprecated. Change the call to include dim=X as an argument.\n",
      "  return F.log_softmax(x)\n"
     ]
    },
    {
     "name": "stdout",
     "output_type": "stream",
     "text": [
      "Epoch 1, Loss: 0.9239228421341635\n",
      "Epoch 2, Loss: 0.40360766401423065\n",
      "Epoch 3, Loss: 0.31839354194875463\n",
      "Epoch 4, Loss: 0.2721866516432147\n",
      "Epoch 5, Loss: 0.2376436760732487\n",
      "Training Complete!\n"
     ]
    }
   ],
   "source": [
    "network.train_model(train_loader, optimizer, criterion, 5)"
   ]
  },
  {
   "cell_type": "code",
   "execution_count": 61,
   "metadata": {},
   "outputs": [
    {
     "name": "stderr",
     "output_type": "stream",
     "text": [
      "C:\\Users\\MasterK\\AppData\\Local\\Temp\\ipykernel_44932\\1367609531.py:19: UserWarning: Implicit dimension choice for log_softmax has been deprecated. Change the call to include dim=X as an argument.\n",
      "  return F.log_softmax(x)\n"
     ]
    },
    {
     "name": "stdout",
     "output_type": "stream",
     "text": [
      "Test Accuracy: 97.64%\n"
     ]
    }
   ],
   "source": [
    "network.test_model(test_loader)"
   ]
  },
  {
   "cell_type": "code",
   "execution_count": 60,
   "metadata": {},
   "outputs": [
    {
     "name": "stderr",
     "output_type": "stream",
     "text": [
      "C:\\Users\\MasterK\\AppData\\Local\\Temp\\ipykernel_44932\\1367609531.py:19: UserWarning: Implicit dimension choice for log_softmax has been deprecated. Change the call to include dim=X as an argument.\n",
      "  return F.log_softmax(x)\n"
     ]
    },
    {
     "data": {
      "image/png": "[encoded data removed]",
      "text/plain": [
       "<Figure size 640x480 with 1 Axes>"
      ]
     },
     "metadata": {},
     "output_type": "display_data"
    }
   ],
   "source": [
    "# Get a random test image\n",
    "images, labels = next(iter(test_loader))\n",
    "image = images[0].numpy().squeeze()\n",
    "\n",
    "# Get prediction\n",
    "output = network(images[0].unsqueeze(0))\n",
    "_, predicted = torch.max(output, 1)\n",
    "\n",
    "# Show image and prediction\n",
    "plt.imshow(image, cmap=\"gray\")\n",
    "plt.title(f\"Predicted: {predicted.item()}, Actual: {labels[0].item()}\")\n",
    "plt.show()"
   ]
  },
  {
   "cell_type": "code",
   "execution_count": 89,
   "metadata": {},
   "outputs": [],
   "source": [
    "torch.save(network.state_dict(), \"mnist_model.pth\")"
   ]
  },
  {
   "cell_type": "code",
   "execution_count": 96,
   "metadata": {},
   "outputs": [],
   "source": [
    "# from PIL import Image \n",
    "# import PIL \n",
    "\n",
    "# im1 = Image.open(\"image1.png\") \n",
    "# # Get prediction\n",
    "# logits = network(transforms.ToTensor()(im1).unsqueeze(0))\n",
    "# probs = F.softmax(logits, dim=1)\n",
    "# _, predicted = torch.max(probs, dim=1)\n",
    "\n",
    "# # Show image and prediction\n",
    "# plt.imshow(im1, cmap=\"gray\")\n",
    "# plt.title(f\"Predicted: {predicted.item()}, Actual: {labels[0].item()}\")\n",
    "# plt.show()\n",
    "# print(probs)"
   ]
  },
  {
   "cell_type": "code",
   "execution_count": null,
   "metadata": {},
   "outputs": [],
   "source": []
  },
  {
   "cell_type": "code",
   "execution_count": null,
   "metadata": {},
   "outputs": [],
   "source": []
  }
 ],
 "metadata": {
  "kernelspec": {
   "display_name": "Python 3",
   "language": "python",
   "name": "python3"
  },
  "language_info": {
   "codemirror_mode": {
    "name": "ipython",
    "version": 3
   },
   "file_extension": ".py",
   "mimetype": "text/x-python",
   "name": "python",
   "nbconvert_exporter": "python",
   "pygments_lexer": "ipython3",
   "version": "3.9.0"
  }
 },
 "nbformat": 4,
 "nbformat_minor": 2
}
